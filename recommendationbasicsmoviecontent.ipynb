{
  "nbformat": 4,
  "nbformat_minor": 0,
  "metadata": {
    "colab": {
      "name": "recommendationbasicsmoviecontent.ipynb",
      "provenance": [],
      "collapsed_sections": []
    },
    "kernelspec": {
      "name": "python3",
      "display_name": "Python 3"
    }
  },
  "cells": [
    {
      "cell_type": "code",
      "metadata": {
        "id": "G3tOVpGU_AeD"
      },
      "source": [
        "from sklearn.feature_extraction.text import CountVectorizer \r\n",
        "from sklearn.metrics.pairwise import cosine_similarity\r\n",
        "text = [\"London Paris London\",\"Paris London Paris\"]\r\n",
        "cv = CountVectorizer()\r\n",
        "count_matrix = cv.fit_transform(text)\r\n",
        "similarity_scores = cosine_similarity(count_matrix)\r\n"
      ],
      "execution_count": 1,
      "outputs": []
    },
    {
      "cell_type": "code",
      "metadata": {
        "colab": {
          "base_uri": "https://localhost:8080/"
        },
        "id": "6oFoCpB2_jgB",
        "outputId": "19e531b9-56d1-4d6d-fc8a-7cac3d3b43ee"
      },
      "source": [
        "print(similarity_scores)"
      ],
      "execution_count": 2,
      "outputs": [
        {
          "output_type": "stream",
          "text": [
            "[[1.  0.8]\n",
            " [0.8 1. ]]\n"
          ],
          "name": "stdout"
        }
      ]
    },
    {
      "cell_type": "code",
      "metadata": {
        "colab": {
          "base_uri": "https://localhost:8080/"
        },
        "id": "EnB-NyxpAdqG",
        "outputId": "917a37a5-1401-400f-81f5-e48a089a0dc9"
      },
      "source": [
        "!git clone https://github.com/codeheroku/Introduction-to-Machine-Learning.git"
      ],
      "execution_count": 3,
      "outputs": [
        {
          "output_type": "stream",
          "text": [
            "Cloning into 'Introduction-to-Machine-Learning'...\n",
            "remote: Enumerating objects: 8, done.\u001b[K\n",
            "remote: Counting objects: 100% (8/8), done.\u001b[K\n",
            "remote: Compressing objects: 100% (8/8), done.\u001b[K\n",
            "remote: Total 537 (delta 3), reused 0 (delta 0), pack-reused 529\u001b[K\n",
            "Receiving objects: 100% (537/537), 24.07 MiB | 19.81 MiB/s, done.\n",
            "Resolving deltas: 100% (172/172), done.\n"
          ],
          "name": "stdout"
        }
      ]
    },
    {
      "cell_type": "code",
      "metadata": {
        "id": "igHqbfQjKj70"
      },
      "source": [
        "import numpy as np\r\n",
        "import pandas as pd"
      ],
      "execution_count": 4,
      "outputs": []
    },
    {
      "cell_type": "code",
      "metadata": {
        "id": "XUaDIV8kNdEY"
      },
      "source": [
        "df = pd.read_csv(\"/content/Introduction-to-Machine-Learning/Building a Movie Recommendation Engine/movie_dataset.csv\")"
      ],
      "execution_count": 5,
      "outputs": []
    },
    {
      "cell_type": "code",
      "metadata": {
        "colab": {
          "base_uri": "https://localhost:8080/"
        },
        "id": "65YIOFo8OQ7P",
        "outputId": "37af4134-d904-47e7-f7f5-abaaf4bf750f"
      },
      "source": [
        "print(df.columns)"
      ],
      "execution_count": 6,
      "outputs": [
        {
          "output_type": "stream",
          "text": [
            "Index(['index', 'budget', 'genres', 'homepage', 'id', 'keywords',\n",
            "       'original_language', 'original_title', 'overview', 'popularity',\n",
            "       'production_companies', 'production_countries', 'release_date',\n",
            "       'revenue', 'runtime', 'spoken_languages', 'status', 'tagline', 'title',\n",
            "       'vote_average', 'vote_count', 'cast', 'crew', 'director'],\n",
            "      dtype='object')\n"
          ],
          "name": "stdout"
        }
      ]
    },
    {
      "cell_type": "code",
      "metadata": {
        "id": "K6eibkCxOaz1"
      },
      "source": [
        "features = [\"director\",\"cast\",\"keywords\",\"genres\"]"
      ],
      "execution_count": 7,
      "outputs": []
    },
    {
      "cell_type": "code",
      "metadata": {
        "id": "75Gcum2MQ4Jd"
      },
      "source": [
        "for feature in features:\r\n",
        "\tdf[feature] = df[feature].fillna('')\r\n",
        " \r\n",
        "def get_title_from_index(index):\r\n",
        "\treturn df[df.index == index][\"title\"].values[0]\r\n",
        "\r\n",
        "def get_index_from_title(title):\r\n",
        "\treturn df[df.title == title][\"index\"].values[0]"
      ],
      "execution_count": 16,
      "outputs": []
    },
    {
      "cell_type": "code",
      "metadata": {
        "id": "Vu-3Ds5CQenD"
      },
      "source": [
        "def combine_features(row):\r\n",
        "\ttry:\r\n",
        "\t\treturn row['keywords'] +\" \"+row['cast']+\" \"+row[\"genres\"]+\" \"+row[\"director\"]\r\n",
        "\texcept:\r\n",
        "\t\tprint (\"Error:\", row\t)"
      ],
      "execution_count": 9,
      "outputs": []
    },
    {
      "cell_type": "code",
      "metadata": {
        "id": "hRB5giYtQ3V5"
      },
      "source": [
        "df[\"combined_features\"] = df.apply(combine_features,axis=1)"
      ],
      "execution_count": 10,
      "outputs": []
    },
    {
      "cell_type": "code",
      "metadata": {
        "colab": {
          "base_uri": "https://localhost:8080/"
        },
        "id": "rhurMHGVSEGQ",
        "outputId": "ea58a7b0-8d8e-48ae-c0a0-dbe514a2ed01"
      },
      "source": [
        "df[\"combined_features\"].head()"
      ],
      "execution_count": 11,
      "outputs": [
        {
          "output_type": "execute_result",
          "data": {
            "text/plain": [
              "0    culture clash future space war space colony so...\n",
              "1    ocean drug abuse exotic island east india trad...\n",
              "2    spy based on novel secret agent sequel mi6 Dan...\n",
              "3    dc comics crime fighter terrorist secret ident...\n",
              "4    based on novel mars medallion space travel pri...\n",
              "Name: combined_features, dtype: object"
            ]
          },
          "metadata": {
            "tags": []
          },
          "execution_count": 11
        }
      ]
    },
    {
      "cell_type": "code",
      "metadata": {
        "id": "8JF2hqSdSUND"
      },
      "source": [
        "count_matrix = cv.fit_transform(df[\"combined_features\"])"
      ],
      "execution_count": 12,
      "outputs": []
    },
    {
      "cell_type": "code",
      "metadata": {
        "id": "RJPd-RqJDMeI"
      },
      "source": [
        "cosine_sim = cosine_similarity(count_matrix)"
      ],
      "execution_count": 13,
      "outputs": []
    },
    {
      "cell_type": "code",
      "metadata": {
        "id": "dtN1a87yDVLT"
      },
      "source": [
        "movie_user_likes = \"Avatar\""
      ],
      "execution_count": 14,
      "outputs": []
    },
    {
      "cell_type": "code",
      "metadata": {
        "id": "D2JMk11LE4fx"
      },
      "source": [
        "movie_index = get_index_from_title(movie_user_likes)"
      ],
      "execution_count": 17,
      "outputs": []
    },
    {
      "cell_type": "code",
      "metadata": {
        "id": "UO_AlSf8PhzP"
      },
      "source": [
        "similar_movies =  list(enumerate(cosine_sim[movie_index]))"
      ],
      "execution_count": 18,
      "outputs": []
    },
    {
      "cell_type": "code",
      "metadata": {
        "id": "mNTIGwA3Pvzf"
      },
      "source": [
        "sorted_similar_movies = sorted(similar_movies,key=lambda x:x[1],reverse=True)\r\n"
      ],
      "execution_count": 19,
      "outputs": []
    },
    {
      "cell_type": "code",
      "metadata": {
        "colab": {
          "base_uri": "https://localhost:8080/"
        },
        "id": "E2foAKkSQGuO",
        "outputId": "b853a424-8ec9-4efc-df6b-91473c78b8bd"
      },
      "source": [
        "i=0\r\n",
        "for movie in sorted_similar_movies:\r\n",
        "  print (get_title_from_index(movie[0]))\r\n",
        "  i+=1\r\n",
        "  if i>50:\r\n",
        "    break"
      ],
      "execution_count": 22,
      "outputs": [
        {
          "output_type": "stream",
          "text": [
            "Avatar\n",
            "Guardians of the Galaxy\n",
            "Aliens\n",
            "Star Wars: Clone Wars: Volume 1\n",
            "Star Trek Into Darkness\n",
            "Star Trek Beyond\n",
            "Alien\n",
            "Lockout\n",
            "Jason X\n",
            "The Helix... Loaded\n",
            "Moonraker\n",
            "Planet of the Apes\n",
            "Galaxy Quest\n",
            "Gravity\n",
            "Alien³\n",
            "Jupiter Ascending\n",
            "The Wolverine\n",
            "Silent Running\n",
            "Zathura: A Space Adventure\n",
            "Trekkies\n",
            "Cargo\n",
            "Wing Commander\n",
            "Star Trek\n",
            "Lost in Space\n",
            "Babylon A.D.\n",
            "The Fifth Element\n",
            "Oblivion\n",
            "Titan A.E.\n",
            "AVP: Alien vs. Predator\n",
            "The Empire Strikes Back\n",
            "Dragonball Evolution\n",
            "Superman Returns\n",
            "Divergent\n",
            "John Carter\n",
            "The Black Hole\n",
            "The Ice Pirates\n",
            "Memoirs of an Invisible Man\n",
            "Starship Troopers\n",
            "The Astronaut's Wife\n",
            "Machete Kills\n",
            "Soldier\n",
            "The Abyss\n",
            "Damnation Alley\n",
            "Men in Black\n",
            "Space Cowboys\n",
            "Space Dogs\n",
            "The Time Machine\n",
            "Sheena\n",
            "Captain America: Civil War\n",
            "Star Trek: Insurrection\n",
            "Oz: The Great and Powerful\n"
          ],
          "name": "stdout"
        }
      ]
    },
    {
      "cell_type": "code",
      "metadata": {
        "id": "Ck4QRdOVQrKc"
      },
      "source": [
        ""
      ],
      "execution_count": null,
      "outputs": []
    }
  ]
}